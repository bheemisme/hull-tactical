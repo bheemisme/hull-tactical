{
 "cells": [
  {
   "cell_type": "markdown",
   "metadata": {},
   "source": [
    "# Exploratory Data Analysis\n",
    "\n",
    "This notebook performs initial exploratory data analysis on the Hull Tactical Market Prediction dataset. We will load the data, examine its structure, and use utility functions to understand the dataset's characteristics."
   ]
  },
  {
   "cell_type": "markdown",
   "metadata": {},
   "source": [
    "## Library Imports\n",
    "\n",
    "First, we import the necessary libraries for data manipulation and visualization:\n",
    "- **Polars**: For high-performance data processing\n",
    "- **Pandas**: For additional data manipulation if needed\n",
    "- **Seaborn** and **Matplotlib**: For data visualization"
   ]
  },
  {
   "cell_type": "code",
   "execution_count": 20,
   "metadata": {},
   "outputs": [],
   "source": [
    "import polars as pl\n",
    "import pandas as pd\n",
    "import seaborn as sns\n",
    "import matplotlib.pyplot as plt\n",
    "import plots as pt\n",
    "import queries as qu\n",
    "import utils as ut\n",
    "import process as pp\n",
    "\n",
    "from importlib import reload\n",
    "# Set up plotting style\n",
    "sns.set_style('whitegrid')\n",
    "plt.rcParams['figure.figsize'] = (12, 8)"
   ]
  },
  {
   "cell_type": "markdown",
   "metadata": {},
   "source": [
    "## Data Loading\n",
    "\n",
    "Now we load the training dataset from the `data/train.csv` file using Polars. This dataset contains historical financial market data with various features and target variables for our machine learning models."
   ]
  },
  {
   "cell_type": "code",
   "execution_count": 36,
   "metadata": {},
   "outputs": [
    {
     "name": "stdout",
     "output_type": "stream",
     "text": [
      "Dataset shape: (8990, 98)\n",
      "Number of columns: 98\n",
      "Column names: ['date_id', 'D1', 'D2', 'D3', 'D4', 'D5', 'D6', 'D7', 'D8', 'D9']...\n"
     ]
    }
   ],
   "source": [
    "# Load the training dataset\n",
    "train_df = pl.read_csv('../data/train.csv')\n",
    "\n",
    "# Display basic information about the dataset\n",
    "print(f\"Dataset shape: {train_df.shape}\")\n",
    "print(f\"Number of columns: {len(train_df.columns)}\")\n",
    "print(f\"Column names: {train_df.columns[:10]}...\")  # Show first 10 columns"
   ]
  },
  {
   "cell_type": "code",
   "execution_count": 37,
   "metadata": {},
   "outputs": [],
   "source": [
    "# cloning the dataframe\n",
    "train_df_cloned = train_df.clone()\n"
   ]
  },
  {
   "cell_type": "markdown",
   "metadata": {},
   "source": [
    "## Dataset Information Summary\n",
    "\n",
    "To get a detailed overview of our dataset, we use a custom utility function that provides information about each column including:\n",
    "- **Data Type**: The Polars data type of each column\n",
    "- **Null Count**: Number of missing values in each column\n",
    "- **Total Count**: Total number of rows in the dataset\n",
    "\n",
    "This helps us understand the data structure and identify any data quality issues."
   ]
  },
  {
   "cell_type": "code",
   "execution_count": 39,
   "metadata": {},
   "outputs": [
    {
     "data": {
      "text/html": [
       "<div><style>\n",
       ".dataframe > thead > tr,\n",
       ".dataframe > tbody > tr {\n",
       "  text-align: right;\n",
       "  white-space: pre-wrap;\n",
       "}\n",
       "</style>\n",
       "<small>shape: (10, 4)</small><table border=\"1\" class=\"dataframe\"><thead><tr><th>Column</th><th>Data Type</th><th>Null Count</th><th>Total Count</th></tr><tr><td>str</td><td>str</td><td>i64</td><td>i64</td></tr></thead><tbody><tr><td>&quot;V3&quot;</td><td>&quot;String&quot;</td><td>1006</td><td>8810</td></tr><tr><td>&quot;V4&quot;</td><td>&quot;String&quot;</td><td>1006</td><td>8810</td></tr><tr><td>&quot;V5&quot;</td><td>&quot;String&quot;</td><td>1512</td><td>8810</td></tr><tr><td>&quot;V6&quot;</td><td>&quot;String&quot;</td><td>1006</td><td>8810</td></tr><tr><td>&quot;V7&quot;</td><td>&quot;String&quot;</td><td>1511</td><td>8810</td></tr><tr><td>&quot;V8&quot;</td><td>&quot;String&quot;</td><td>1006</td><td>8810</td></tr><tr><td>&quot;V9&quot;</td><td>&quot;String&quot;</td><td>4539</td><td>8810</td></tr><tr><td>&quot;forward_returns&quot;</td><td>&quot;Float64&quot;</td><td>0</td><td>8810</td></tr><tr><td>&quot;risk_free_rate&quot;</td><td>&quot;Float64&quot;</td><td>0</td><td>8810</td></tr><tr><td>&quot;market_forward_excess_returns&quot;</td><td>&quot;Float64&quot;</td><td>0</td><td>8810</td></tr></tbody></table></div>"
      ],
      "text/plain": [
       "shape: (10, 4)\n",
       "┌───────────────────────────────┬───────────┬────────────┬─────────────┐\n",
       "│ Column                        ┆ Data Type ┆ Null Count ┆ Total Count │\n",
       "│ ---                           ┆ ---       ┆ ---        ┆ ---         │\n",
       "│ str                           ┆ str       ┆ i64        ┆ i64         │\n",
       "╞═══════════════════════════════╪═══════════╪════════════╪═════════════╡\n",
       "│ V3                            ┆ String    ┆ 1006       ┆ 8810        │\n",
       "│ V4                            ┆ String    ┆ 1006       ┆ 8810        │\n",
       "│ V5                            ┆ String    ┆ 1512       ┆ 8810        │\n",
       "│ V6                            ┆ String    ┆ 1006       ┆ 8810        │\n",
       "│ V7                            ┆ String    ┆ 1511       ┆ 8810        │\n",
       "│ V8                            ┆ String    ┆ 1006       ┆ 8810        │\n",
       "│ V9                            ┆ String    ┆ 4539       ┆ 8810        │\n",
       "│ forward_returns               ┆ Float64   ┆ 0          ┆ 8810        │\n",
       "│ risk_free_rate                ┆ Float64   ┆ 0          ┆ 8810        │\n",
       "│ market_forward_excess_returns ┆ Float64   ┆ 0          ┆ 8810        │\n",
       "└───────────────────────────────┴───────────┴────────────┴─────────────┘"
      ]
     },
     "execution_count": 39,
     "metadata": {},
     "output_type": "execute_result"
    }
   ],
   "source": [
    "train_df_info = qu.get_dataframe_info(train_df)\n",
    "\n",
    "train_df_info.tail(10)"
   ]
  },
  {
   "cell_type": "code",
   "execution_count": null,
   "metadata": {},
   "outputs": [],
   "source": [
    "train_df = pp.create_lagged_targets(train_df)"
   ]
  },
  {
   "cell_type": "markdown",
   "metadata": {},
   "source": [
    "target variables have zero null values"
   ]
  },
  {
   "cell_type": "code",
   "execution_count": 40,
   "metadata": {},
   "outputs": [
    {
     "data": {
      "text/html": [
       "<div><style>\n",
       ".dataframe > thead > tr,\n",
       ".dataframe > tbody > tr {\n",
       "  text-align: right;\n",
       "  white-space: pre-wrap;\n",
       "}\n",
       "</style>\n",
       "<small>shape: (8, 3)</small><table border=\"1\" class=\"dataframe\"><thead><tr><th>Feature Type</th><th>Column Count</th><th>Unique Data Types</th></tr><tr><td>str</td><td>i64</td><td>str</td></tr></thead><tbody><tr><td>&quot;Technical/Market Dynamics&quot;</td><td>18</td><td>&quot;String&quot;</td></tr><tr><td>&quot;Macroeconomic&quot;</td><td>20</td><td>&quot;String&quot;</td></tr><tr><td>&quot;Interest Rate&quot;</td><td>9</td><td>&quot;String&quot;</td></tr><tr><td>&quot;Price/Valuation&quot;</td><td>13</td><td>&quot;String&quot;</td></tr><tr><td>&quot;Volatility&quot;</td><td>13</td><td>&quot;String&quot;</td></tr><tr><td>&quot;Sentiment&quot;</td><td>12</td><td>&quot;String&quot;</td></tr><tr><td>&quot;Momentum&quot;</td><td>0</td><td>&quot;&quot;</td></tr><tr><td>&quot;Dummy/Binary&quot;</td><td>9</td><td>&quot;Int64&quot;</td></tr></tbody></table></div>"
      ],
      "text/plain": [
       "shape: (8, 3)\n",
       "┌───────────────────────────┬──────────────┬───────────────────┐\n",
       "│ Feature Type              ┆ Column Count ┆ Unique Data Types │\n",
       "│ ---                       ┆ ---          ┆ ---               │\n",
       "│ str                       ┆ i64          ┆ str               │\n",
       "╞═══════════════════════════╪══════════════╪═══════════════════╡\n",
       "│ Technical/Market Dynamics ┆ 18           ┆ String            │\n",
       "│ Macroeconomic             ┆ 20           ┆ String            │\n",
       "│ Interest Rate             ┆ 9            ┆ String            │\n",
       "│ Price/Valuation           ┆ 13           ┆ String            │\n",
       "│ Volatility                ┆ 13           ┆ String            │\n",
       "│ Sentiment                 ┆ 12           ┆ String            │\n",
       "│ Momentum                  ┆ 0            ┆                   │\n",
       "│ Dummy/Binary              ┆ 9            ┆ Int64             │\n",
       "└───────────────────────────┴──────────────┴───────────────────┘"
      ]
     },
     "execution_count": 40,
     "metadata": {},
     "output_type": "execute_result"
    }
   ],
   "source": [
    "train_df_feature_type_counts = qu.get_feature_type_column_counts(train_df)\n",
    "train_df_feature_type_counts.head(10)"
   ]
  },
  {
   "cell_type": "code",
   "execution_count": 41,
   "metadata": {},
   "outputs": [
    {
     "data": {
      "text/html": [
       "<div><style>\n",
       ".dataframe > thead > tr,\n",
       ".dataframe > tbody > tr {\n",
       "  text-align: right;\n",
       "  white-space: pre-wrap;\n",
       "}\n",
       "</style>\n",
       "<small>shape: (8, 2)</small><table border=\"1\" class=\"dataframe\"><thead><tr><th>Feature Type</th><th>Sample Values</th></tr><tr><td>str</td><td>list[str]</td></tr></thead><tbody><tr><td>&quot;Technical/Market Dynamics&quot;</td><td>[&quot;0.375&quot;, &quot;-0.392556008733254&quot;, … &quot;0.619847227306824&quot;]</td></tr><tr><td>&quot;Macroeconomic&quot;</td><td>[&quot;0.19973544973545&quot;, &quot;0.919973544973545&quot;, … &quot;0.00396825396825397&quot;]</td></tr><tr><td>&quot;Interest Rate&quot;</td><td>[&quot;-1.5366659942006&quot;, &quot;-0.154043690140403&quot;, … &quot;0.538359788359788&quot;]</td></tr><tr><td>&quot;Price/Valuation&quot;</td><td>[&quot;1.43614726327281&quot;, &quot;0.743386243386243&quot;, … &quot;0.937830687830688&quot;]</td></tr><tr><td>&quot;Volatility&quot;</td><td>[&quot;0.000661375661375661&quot;, &quot;0.000661375661375661&quot;, … &quot;0.000661375661375661&quot;]</td></tr><tr><td>&quot;Sentiment&quot;</td><td>[&quot;0.892195767195767&quot;, &quot;0.0992063492063492&quot;, … &quot;0.82473544973545&quot;]</td></tr><tr><td>&quot;Momentum&quot;</td><td>[]</td></tr><tr><td>&quot;Dummy/Binary&quot;</td><td>[&quot;0&quot;, &quot;0&quot;, … &quot;0&quot;]</td></tr></tbody></table></div>"
      ],
      "text/plain": [
       "shape: (8, 2)\n",
       "┌───────────────────────────┬─────────────────────────────────┐\n",
       "│ Feature Type              ┆ Sample Values                   │\n",
       "│ ---                       ┆ ---                             │\n",
       "│ str                       ┆ list[str]                       │\n",
       "╞═══════════════════════════╪═════════════════════════════════╡\n",
       "│ Technical/Market Dynamics ┆ [\"0.375\", \"-0.392556008733254\"… │\n",
       "│ Macroeconomic             ┆ [\"0.19973544973545\", \"0.919973… │\n",
       "│ Interest Rate             ┆ [\"-1.5366659942006\", \"-0.15404… │\n",
       "│ Price/Valuation           ┆ [\"1.43614726327281\", \"0.743386… │\n",
       "│ Volatility                ┆ [\"0.000661375661375661\", \"0.00… │\n",
       "│ Sentiment                 ┆ [\"0.892195767195767\", \"0.09920… │\n",
       "│ Momentum                  ┆ []                              │\n",
       "│ Dummy/Binary              ┆ [\"0\", \"0\", … \"0\"]               │\n",
       "└───────────────────────────┴─────────────────────────────────┘"
      ]
     },
     "execution_count": 41,
     "metadata": {},
     "output_type": "execute_result"
    }
   ],
   "source": [
    "train_df_feature_samples = qu.get_feature_type_samples(train_df)\n",
    "train_df_feature_samples.head(10)"
   ]
  },
  {
   "cell_type": "code",
   "execution_count": 42,
   "metadata": {},
   "outputs": [
    {
     "data": {
      "text/html": [
       "<div><style>\n",
       ".dataframe > thead > tr,\n",
       ".dataframe > tbody > tr {\n",
       "  text-align: right;\n",
       "  white-space: pre-wrap;\n",
       "}\n",
       "</style>\n",
       "<small>shape: (8, 3)</small><table border=\"1\" class=\"dataframe\"><thead><tr><th>feature_type</th><th>Null count</th><th>Non Null count</th></tr><tr><td>str</td><td>i64</td><td>i64</td></tr></thead><tbody><tr><td>&quot;Technical/Market Dynamics&quot;</td><td>41254</td><td>117326</td></tr><tr><td>&quot;Macroeconomic&quot;</td><td>27471</td><td>148729</td></tr><tr><td>&quot;Interest Rate&quot;</td><td>9054</td><td>70236</td></tr><tr><td>&quot;Price/Valuation&quot;</td><td>14888</td><td>99642</td></tr><tr><td>&quot;Volatility&quot;</td><td>23170</td><td>91360</td></tr><tr><td>&quot;Sentiment&quot;</td><td>21838</td><td>83882</td></tr><tr><td>&quot;Momentum&quot;</td><td>0</td><td>0</td></tr><tr><td>&quot;Dummy/Binary&quot;</td><td>0</td><td>79290</td></tr></tbody></table></div>"
      ],
      "text/plain": [
       "shape: (8, 3)\n",
       "┌───────────────────────────┬────────────┬────────────────┐\n",
       "│ feature_type              ┆ Null count ┆ Non Null count │\n",
       "│ ---                       ┆ ---        ┆ ---            │\n",
       "│ str                       ┆ i64        ┆ i64            │\n",
       "╞═══════════════════════════╪════════════╪════════════════╡\n",
       "│ Technical/Market Dynamics ┆ 41254      ┆ 117326         │\n",
       "│ Macroeconomic             ┆ 27471      ┆ 148729         │\n",
       "│ Interest Rate             ┆ 9054       ┆ 70236          │\n",
       "│ Price/Valuation           ┆ 14888      ┆ 99642          │\n",
       "│ Volatility                ┆ 23170      ┆ 91360          │\n",
       "│ Sentiment                 ┆ 21838      ┆ 83882          │\n",
       "│ Momentum                  ┆ 0          ┆ 0              │\n",
       "│ Dummy/Binary              ┆ 0          ┆ 79290          │\n",
       "└───────────────────────────┴────────────┴────────────────┘"
      ]
     },
     "execution_count": 42,
     "metadata": {},
     "output_type": "execute_result"
    }
   ],
   "source": [
    "\n",
    "qu.get_feature_counts(train_df)"
   ]
  },
  {
   "cell_type": "markdown",
   "metadata": {},
   "source": [
    "eval_df has no null values"
   ]
  },
  {
   "cell_type": "markdown",
   "metadata": {},
   "source": [
    "## Data Preprocessing"
   ]
  },
  {
   "cell_type": "code",
   "execution_count": null,
   "metadata": {},
   "outputs": [],
   "source": [
    "train_df = pp.remove_dummy_features(train_df)\n"
   ]
  },
  {
   "cell_type": "code",
   "execution_count": null,
   "metadata": {},
   "outputs": [],
   "source": [
    "train_df = pp.cast_feature_type(train_df, ut.FeatureType.technical, pl.Float64)\n",
    "train_df = pp.cast_feature_type(train_df, ut.FeatureType.macroeconomic, pl.Float64)\n",
    "train_df = pp.cast_feature_type(train_df, ut.FeatureType.interest_rate, pl.Float64)\n",
    "train_df = pp.cast_feature_type(train_df, ut.FeatureType.price_valuation, pl.Float64)\n",
    "train_df = pp.cast_feature_type(train_df, ut.FeatureType.volatility, pl.Float64)\n",
    "train_df = pp.cast_feature_type(train_df, ut.FeatureType.sentiment, pl.Float64)\n",
    "\n",
    "\n",
    "\n"
   ]
  },
  {
   "cell_type": "code",
   "execution_count": null,
   "metadata": {},
   "outputs": [],
   "source": [
    "eval_df = train_df[-180:]\n",
    "train_df = train_df[:-180]\n",
    "print(train_df.shape)\n",
    "print(eval_df.shape)"
   ]
  },
  {
   "cell_type": "markdown",
   "metadata": {},
   "source": [
    "Remove all rows with null feature variables"
   ]
  },
  {
   "cell_type": "code",
   "execution_count": 51,
   "metadata": {},
   "outputs": [
    {
     "name": "stdout",
     "output_type": "stream",
     "text": [
      "(8810, 89) (180, 89)\n"
     ]
    }
   ],
   "source": [
    "feature_cols = [col for col in train_df.columns if col not in ut.TARGET_VARIABLES]\n",
    "train_df = train_df.filter(~pl.all_horizontal(pl.col(feature_cols).is_null()))\n",
    "eval_df = eval_df.filter(~pl.all_horizontal(pl.col(feature_cols).is_null()))\n",
    "print(train_df.shape, eval_df.shape)"
   ]
  },
  {
   "cell_type": "markdown",
   "metadata": {},
   "source": [
    "Fill null values using backward strategy"
   ]
  },
  {
   "cell_type": "code",
   "execution_count": null,
   "metadata": {},
   "outputs": [],
   "source": [
    "train_df = train_df.fill_null(strategy='backward')\n",
    "qu.get_feature_counts(train_df)\n"
   ]
  },
  {
   "cell_type": "code",
   "execution_count": 114,
   "metadata": {},
   "outputs": [
    {
     "data": {
      "text/html": [
       "<div><style>\n",
       ".dataframe > thead > tr,\n",
       ".dataframe > tbody > tr {\n",
       "  text-align: right;\n",
       "  white-space: pre-wrap;\n",
       "}\n",
       "</style>\n",
       "<small>shape: (92, 4)</small><table border=\"1\" class=\"dataframe\"><thead><tr><th>Column</th><th>Data Type</th><th>Null Count</th><th>Total Count</th></tr><tr><td>str</td><td>str</td><td>i64</td><td>i64</td></tr></thead><tbody><tr><td>&quot;date_id&quot;</td><td>&quot;Int64&quot;</td><td>0</td><td>8810</td></tr><tr><td>&quot;E1&quot;</td><td>&quot;Float64&quot;</td><td>0</td><td>8810</td></tr><tr><td>&quot;E10&quot;</td><td>&quot;Float64&quot;</td><td>0</td><td>8810</td></tr><tr><td>&quot;E11&quot;</td><td>&quot;Float64&quot;</td><td>0</td><td>8810</td></tr><tr><td>&quot;E12&quot;</td><td>&quot;Float64&quot;</td><td>0</td><td>8810</td></tr><tr><td>&hellip;</td><td>&hellip;</td><td>&hellip;</td><td>&hellip;</td></tr><tr><td>&quot;risk_free_rate&quot;</td><td>&quot;Float64&quot;</td><td>0</td><td>8810</td></tr><tr><td>&quot;market_forward_excess_returns&quot;</td><td>&quot;Float64&quot;</td><td>0</td><td>8810</td></tr><tr><td>&quot;lagged_forward_returns&quot;</td><td>&quot;Float64&quot;</td><td>0</td><td>8810</td></tr><tr><td>&quot;lagged_risk_free_rate&quot;</td><td>&quot;Float64&quot;</td><td>0</td><td>8810</td></tr><tr><td>&quot;lagged_market_forward_excess_r…</td><td>&quot;Float64&quot;</td><td>0</td><td>8810</td></tr></tbody></table></div>"
      ],
      "text/plain": [
       "shape: (92, 4)\n",
       "┌─────────────────────────────────┬───────────┬────────────┬─────────────┐\n",
       "│ Column                          ┆ Data Type ┆ Null Count ┆ Total Count │\n",
       "│ ---                             ┆ ---       ┆ ---        ┆ ---         │\n",
       "│ str                             ┆ str       ┆ i64        ┆ i64         │\n",
       "╞═════════════════════════════════╪═══════════╪════════════╪═════════════╡\n",
       "│ date_id                         ┆ Int64     ┆ 0          ┆ 8810        │\n",
       "│ E1                              ┆ Float64   ┆ 0          ┆ 8810        │\n",
       "│ E10                             ┆ Float64   ┆ 0          ┆ 8810        │\n",
       "│ E11                             ┆ Float64   ┆ 0          ┆ 8810        │\n",
       "│ E12                             ┆ Float64   ┆ 0          ┆ 8810        │\n",
       "│ …                               ┆ …         ┆ …          ┆ …           │\n",
       "│ risk_free_rate                  ┆ Float64   ┆ 0          ┆ 8810        │\n",
       "│ market_forward_excess_returns   ┆ Float64   ┆ 0          ┆ 8810        │\n",
       "│ lagged_forward_returns          ┆ Float64   ┆ 0          ┆ 8810        │\n",
       "│ lagged_risk_free_rate           ┆ Float64   ┆ 0          ┆ 8810        │\n",
       "│ lagged_market_forward_excess_r… ┆ Float64   ┆ 0          ┆ 8810        │\n",
       "└─────────────────────────────────┴───────────┴────────────┴─────────────┘"
      ]
     },
     "execution_count": 114,
     "metadata": {},
     "output_type": "execute_result"
    }
   ],
   "source": [
    "qu.get_dataframe_info(train_df)"
   ]
  },
  {
   "cell_type": "code",
   "execution_count": null,
   "metadata": {},
   "outputs": [],
   "source": []
  }
 ],
 "metadata": {
  "kernelspec": {
   "display_name": "kaggle",
   "language": "python",
   "name": "python3"
  },
  "language_info": {
   "codemirror_mode": {
    "name": "ipython",
    "version": 3
   },
   "file_extension": ".py",
   "mimetype": "text/x-python",
   "name": "python",
   "nbconvert_exporter": "python",
   "pygments_lexer": "ipython3",
   "version": "3.10.16"
  }
 },
 "nbformat": 4,
 "nbformat_minor": 4
}
